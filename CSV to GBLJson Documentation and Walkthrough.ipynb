{
 "cells": [
  {
   "cell_type": "markdown",
   "metadata": {},
   "source": [
    "# CSV to GeoBlacklight JSON"
   ]
  },
  {
   "cell_type": "markdown",
   "metadata": {},
   "source": [
    "### This script takes an input CSV of metadata and converts it to a GeoBlacklight JSON"
   ]
  },
  {
   "cell_type": "markdown",
   "metadata": {},
   "source": [
    "#### Look in the repo for an example input CSV, and let's get started\n",
    "Import necessary modules"
   ]
  },
  {
   "cell_type": "code",
   "execution_count": 1,
   "metadata": {},
   "outputs": [],
   "source": [
    "import csv\n",
    "import json\n",
    "import os\n",
    "from datetime import datetime"
   ]
  },
  {
   "cell_type": "markdown",
   "metadata": {},
   "source": [
    "This is a dictionary to translate single-value Dublin Core/GBL fields into GBLJson"
   ]
  },
  {
   "cell_type": "code",
   "execution_count": 2,
   "metadata": {},
   "outputs": [],
   "source": [
    "single_dict = {\n",
    "    \"Identifier\":[\"layer_slug_s\",\"dc_identifier_s\"],\n",
    "    \"Status\":[\"b1g_status_s\"],\n",
    "    \"Code\":[\"b1g_code_s\"],\n",
    "    \"Date Accessioned\":[\"b1g_dateAccessioned_s\"],\n",
    "    \"Date Retired\":[\"b1g_dateRetired_s\"],\n",
    "    \"Suppressed\":[\"suppressed_b\"],\n",
    "    \"Accrual Method\":[\"dct_accrualMethod_s\"],\n",
    "    \"Title\":[\"dc_title_s\"],\n",
    "    \"Description\":[\"dc_description_s\"],\n",
    "    \"Date Issued\":[\"dct_issued_s\"],\n",
    "    \"Solr Year\":[\"solr_year_i\"],\n",
    "    \"Provenance\":[\"dct_provenance_s\"],\n",
    "    \"Format\":[\"dc_format_s\"],\n",
    "    \"Geometry Type\":[\"layer_geom_type_s\"],\n",
    "    \"Image\":[\"b1g_image_ss\"],\n",
    "    \"Layer ID\":[\"layer_id_s\"]\n",
    "    }"
   ]
  },
  {
   "cell_type": "markdown",
   "metadata": {},
   "source": [
    "And this is a dictionary to translate multivalue Dublin Core/GBL fields into GBLJson"
   ]
  },
  {
   "cell_type": "code",
   "execution_count": 3,
   "metadata": {},
   "outputs": [],
   "source": [
    "multiple_dict = {\n",
    "    \"Is Part Of\":[\"dct_isPartOf_sm\"],\n",
    "    \"Alternative Title\":[\"dct_alternativeTitle_sm\"],\n",
    "    \"Genre\":[\"b1g_genre_sm\"],\n",
    "    \"Subject\":[\"dc_subject_sm\"],\n",
    "    \"Keyword\":[\"b1g_keyword_sm\"],\n",
    "    \"Temporal Coverage\":[\"dct_temporal_sm\"],\n",
    "    \"Spatial Coverage\":[\"dct_spatial_sm\"],\n",
    "    \"Publisher\":[\"dc_publisher_sm\"],\n",
    "    \"Creator\":[\"dc_creator_sm\"],\n",
    "    \"Language\":[\"dc_language_sm\"],\n",
    "    \"Type\":[\"dc_type_sm\"],\n",
    "    \"Geonames\":[\"b1g_geonames_sm\"]\n",
    "    }"
   ]
  },
  {
   "cell_type": "markdown",
   "metadata": {},
   "source": [
    "This statement will create a folder to store the jsons if one does not already exist"
   ]
  },
  {
   "cell_type": "code",
   "execution_count": 4,
   "metadata": {},
   "outputs": [],
   "source": [
    "if not os.path.exists(\"json\"):\n",
    "    os.mkdir(\"json\")"
   ]
  },
  {
   "cell_type": "markdown",
   "metadata": {},
   "source": [
    "Open the CSV with the GBL data. Change the string inside the open statement to match your file name"
   ]
  },
  {
   "cell_type": "code",
   "execution_count": 5,
   "metadata": {},
   "outputs": [],
   "source": [
    "csvfile = open('template_from_master.csv', 'r')"
   ]
  },
  {
   "cell_type": "markdown",
   "metadata": {},
   "source": [
    "Reads the CSV into a dictionary and sets the date modified to today"
   ]
  },
  {
   "cell_type": "code",
   "execution_count": null,
   "metadata": {},
   "outputs": [],
   "source": [
    "reader = csv.DictReader(csvfile)\n",
    "date_modified = datetime.today().strftime('%Y-%m-%d')"
   ]
  },
  {
   "cell_type": "markdown",
   "metadata": {},
   "source": [
    "Now this is where the work happens. \n",
    "* Each row within the reader is a dictionary containing one line of the CSV. <br>\n",
    "* A starting dictionary is created that has some pre-populated default values. These can change as needed; feel free to modify them. <br>\n",
    "* Each row is examined for an identifying code. This code separates the records into collections. A folder for each code is created in the json folder so that the jsons can be sorted into their respective collection. <br>\n",
    "* The script then goes through the single and multiple dictionaries that were defined above and writes them into the starting dictionary. <br>\n",
    "* Next, the script looks for the the spatial coverage field and splits the WSEN values into their own variables. A centroid is calculated, and the geometry and centroid fields are populated accordingly. If the spatial coverage field doesn't have all of the necessary values, then the geometry and centroid fields are written to be null. <br>\n",
    "* The references field needs to be created, so the script looks for relevant fields, writes them to a list if they have a value, and then formats and adds the list to the small dictionary before writing the json file.\n",
    "* Finally, the unique identifier is pulled out, the output filename is named according to that unique identifier, and the output json file is written. This happens for every row in the CSV, so each record will be written to its own JSON file."
   ]
  },
  {
   "cell_type": "code",
   "execution_count": 7,
   "metadata": {},
   "outputs": [],
   "source": [
    "for row in reader: #each row is a dictionary\n",
    "    code = \"\"\n",
    "    ref = []\n",
    "    small_dict = {\"geoblacklight_version\":\"1.0\",\"dc_rights_s\":\"Public\",\"layer_modified_dt\":date_modified} #starting dictionary with set values\n",
    "    for key,val in row.items():\n",
    "        if key == \"Code\":\n",
    "            code = val\n",
    "            if not os.path.exists(\"json/\" + val): #makes a new folder for each code\n",
    "                os.mkdir(\"json/\" + val)\n",
    "        if key in single_dict:\n",
    "            for fieldname in single_dict[key]:\n",
    "                small_dict[fieldname] = val\n",
    "        if key in multiple_dict:\n",
    "            for fieldname in multiple_dict[key]:\n",
    "                small_dict[fieldname] = val.split('|') #creates a list with the multiple values\n",
    "        if key == \"Bounding Box\":\n",
    "            val = val.split(',')\n",
    "            if len(val) == 4: #takes care of bounding box values and calculates centroid\n",
    "                west = val[0]\n",
    "                south = val[1]\n",
    "                east = val[2]\n",
    "                north = val[3]\n",
    "                centerlat = (float(north)+float(south))/2\n",
    "                centerlong = (float(east)+float(west))/2\n",
    "                small_dict[\"solr_geom\"] = \"ENVELOPE(\"+west+\",\"+east+\",\"+north+\",\"+south+\")\"\n",
    "                small_dict[\"b1g_centroid_ss\"] = str(centerlat) + \",\" + str(centerlong)\n",
    "            else: #if the bounding box doesn't have all coordinates, just write values as null\n",
    "                small_dict[\"solr_geom\"] = \"NULL\"\n",
    "                small_dict[\"b1g_centroid_ss\"] = \"NULL\"\n",
    "        if key == \"Information\" and val != '':\n",
    "            to_append = '\"http://schema.org/url\":\"' + val + '\"'\n",
    "            #print(to_append)\n",
    "            ref.append(to_append)\n",
    "        if key == \"Download\" and val != '':\n",
    "            to_append = '\"http://schema.org/downloadUrl\":\"' + val + '\"'\n",
    "            ref.append(to_append)\n",
    "        if key == \"MapServer\" and val != '':\n",
    "            to_append = '\"urn:x-esri:serviceType:ArcGIS#DynamicMapLayer\":\"' + val + '\"'\n",
    "            ref.append(to_append)\n",
    "        if key == \"FeatureServer\" and val != '':\n",
    "            to_append = '\"urn:x-esri:serviceType:ArcGIS#FeatureLayer\":\"' + val + '\"'\n",
    "            ref.append(to_append)\n",
    "        if key == \"ImageServer\" and val != '':\n",
    "            to_append = '\"urn:x-esri:serviceType:ArcGIS#ImageMapLayer\":\"' + val + '\"'\n",
    "            ref.append(to_append)\n",
    "        if key == \"ISO Metadata\" and val != '':\n",
    "            to_append = '\"http://www.isotc211.org/schemas/2005/gmd/\":\"' + val + '\"'\n",
    "            ref.append(to_append)\n",
    "        if key == \"FGDC Metadata\" and val != '':\n",
    "            to_append = '\"http://www.opengis.net/cat/csw/csdgm\":\"' + val + '\"'\n",
    "            ref.append(to_append)\n",
    "        if key == \"WFS\" and val != '':\n",
    "            to_append = '\"http://www.opengis.net/def/serviceType/ogc/wfs\":\"' + val + '\"'\n",
    "            ref.append(to_append)\n",
    "        if key == \"WMS\" and val != '':\n",
    "            to_append = '\"http://www.opengis.net/def/serviceType/ogc/wms\":\"' + val + '\"'\n",
    "            ref.append(to_append)\n",
    "        if key == \"HTML\" and val != '':\n",
    "            to_append = '\"http://www.w3.org/1999/xhtml\":\"' + val + '\"'\n",
    "            ref.append(to_append)\n",
    "        if key == \"IIIF\" and val != '':\n",
    "            to_append = '\"http://iiif.io/api/image\":\"' + val + '\"'\n",
    "            ref.append(to_append)\n",
    "        if key == \"Manifest\" and val != '':\n",
    "            to_append = '\"http://iiif.io/api/presentation#manifest\":\"' + val + '\"'\n",
    "            ref.append(to_append)\n",
    "        if key == \"IndexMaps\" and val != '':\n",
    "            to_append = '\"https://openindexmaps.org\":\"' + val + '\"'\n",
    "            ref.append(to_append)\n",
    "    small_dict[\"dct_references_s\"] = '{' + (','.join(ref)) + '}'\n",
    "    iden = row['Identifier']\n",
    "    filename = iden + \".json\"\n",
    "    with open(\"json/\"+code+\"/\"+filename, 'w') as jsonfile: #writes to a json with the identifier as the filename\n",
    "        json.dump(small_dict,jsonfile,indent=2)"
   ]
  },
  {
   "cell_type": "code",
   "execution_count": null,
   "metadata": {},
   "outputs": [],
   "source": []
  }
 ],
 "metadata": {
  "kernelspec": {
   "display_name": "Python 3",
   "language": "python",
   "name": "python3"
  },
  "language_info": {
   "codemirror_mode": {
    "name": "ipython",
    "version": 3
   },
   "file_extension": ".py",
   "mimetype": "text/x-python",
   "name": "python",
   "nbconvert_exporter": "python",
   "pygments_lexer": "ipython3",
   "version": "3.6.6"
  }
 },
 "nbformat": 4,
 "nbformat_minor": 2
}
